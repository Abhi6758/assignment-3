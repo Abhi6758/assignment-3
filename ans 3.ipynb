{
 "cells": [
  {
   "cell_type": "markdown",
   "id": "964ab8a0-28e6-4bfc-b1f7-727f705c2a6d",
   "metadata": {},
   "source": [
    "An iterator is an object that is used to iterate (loop) through elements in a collection (like a list, tuple, dictionary, etc.) or through a sequence of values. It provides a way to access the elements of a collection one by one without having to know the underlying structure of the collection. "
   ]
  },
  {
   "cell_type": "markdown",
   "id": "1d72973d-a051-4c6f-a77f-240c3ebf7578",
   "metadata": {},
   "source": [
    "the method used to initialize the iterator object is __iter__(),\n",
    "and the method used for iteration is __next__()."
   ]
  },
  {
   "cell_type": "code",
   "execution_count": 1,
   "id": "7353593e-19ea-49e1-b4ee-0d50065c1845",
   "metadata": {},
   "outputs": [
    {
     "name": "stdout",
     "output_type": "stream",
     "text": [
      "2\n",
      "4\n",
      "6\n",
      "8\n",
      "10\n"
     ]
    }
   ],
   "source": [
    "class ListIterator:\n",
    "    def __init__(self, data):\n",
    "        self.data = data\n",
    "        self.index = 0\n",
    "\n",
    "    def __iter__(self):\n",
    "        return self\n",
    "\n",
    "    def __next__(self):\n",
    "        if self.index >= len(self.data):\n",
    "            raise StopIteration\n",
    "        else:\n",
    "            value = self.data[self.index]\n",
    "            self.index += 1\n",
    "            return value\n",
    "my_list = [2, 4, 6, 8, 10, 12, 14, 16, 18, 20]\n",
    "\n",
    "my_iterator = ListIterator(my_list)\n",
    "\n",
    "for _ in range(5):\n",
    "    print(next(my_iterator))\n",
    "\n"
   ]
  },
  {
   "cell_type": "code",
   "execution_count": null,
   "id": "de2f6b34-753a-4555-a929-5736b9de3252",
   "metadata": {},
   "outputs": [],
   "source": []
  }
 ],
 "metadata": {
  "kernelspec": {
   "display_name": "Python 3 (ipykernel)",
   "language": "python",
   "name": "python3"
  },
  "language_info": {
   "codemirror_mode": {
    "name": "ipython",
    "version": 3
   },
   "file_extension": ".py",
   "mimetype": "text/x-python",
   "name": "python",
   "nbconvert_exporter": "python",
   "pygments_lexer": "ipython3",
   "version": "3.10.8"
  }
 },
 "nbformat": 4,
 "nbformat_minor": 5
}
