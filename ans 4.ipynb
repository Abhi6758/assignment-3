{
 "cells": [
  {
   "cell_type": "markdown",
   "id": "62c2c068-0dc2-4f11-8b86-c600026c93fa",
   "metadata": {},
   "source": [
    "A generator function in Python is a special type of function that returns an iterator, which can be used to generate a sequence of values on-the-fly without creating the entire sequence in memory at once."
   ]
  },
  {
   "cell_type": "markdown",
   "id": "030d0051-4ed2-4589-b1be-03c14f5db1d3",
   "metadata": {},
   "source": [
    "The yield keyword is used to indicate the points at which the generator should pause and yield a value to the caller."
   ]
  },
  {
   "cell_type": "code",
   "execution_count": null,
   "id": "66161d84-f25c-453a-b798-eb1ccfbaff13",
   "metadata": {},
   "outputs": [],
   "source": [
    "def myfunction (n):\n",
    "    for i in range(n):\n",
    "        yield i ** 2\n",
    "\n",
    "for num in squa(5):\n",
    "    print(num)\n"
   ]
  }
 ],
 "metadata": {
  "kernelspec": {
   "display_name": "Python 3 (ipykernel)",
   "language": "python",
   "name": "python3"
  },
  "language_info": {
   "codemirror_mode": {
    "name": "ipython",
    "version": 3
   },
   "file_extension": ".py",
   "mimetype": "text/x-python",
   "name": "python",
   "nbconvert_exporter": "python",
   "pygments_lexer": "ipython3",
   "version": "3.10.8"
  }
 },
 "nbformat": 4,
 "nbformat_minor": 5
}
