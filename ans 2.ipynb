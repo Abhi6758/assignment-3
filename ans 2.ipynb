{
 "cells": [
  {
   "cell_type": "markdown",
   "id": "284973f2-1c7f-4a6c-9e76-d38d996d200d",
   "metadata": {},
   "source": [
    "*args (Arbitrary Positional Arguments):\n",
    "The *args syntax allows a function to accept an arbitrary number of positional arguments. These arguments are gathered into a tuple within the function, which you can then iterate through or process."
   ]
  },
  {
   "cell_type": "code",
   "execution_count": 7,
   "id": "3ba50951-4de3-4a53-8500-34fbf010f3a1",
   "metadata": {},
   "outputs": [
    {
     "name": "stdout",
     "output_type": "stream",
     "text": [
      "1\n",
      "2\n",
      "3\n",
      "hello\n"
     ]
    }
   ],
   "source": [
    "def myfunction(*args):\n",
    "    for arg in args:\n",
    "        print(arg)\n",
    "\n",
    "print_args(1, 2, 3, \"hello\")\n"
   ]
  },
  {
   "cell_type": "markdown",
   "id": "474deb7a-bbf8-4670-8742-eda2d76a856f",
   "metadata": {},
   "source": [
    "**kwargs (Arbitrary Keyword Arguments):\n",
    "The **kwargs syntax allows a function to accept an arbitrary number of keyword arguments. These arguments are gathered into a dictionary within the function, where keys are the argument names and values are the corresponding argument values."
   ]
  },
  {
   "cell_type": "code",
   "execution_count": 8,
   "id": "d635a940-d459-4f72-aa59-a18a257f2699",
   "metadata": {},
   "outputs": [],
   "source": [
    "def myfunction (**kwargs):\n",
    "    for key, value in kwargs.items():\n",
    "        print(f\"{key}: {value}\")\n"
   ]
  },
  {
   "cell_type": "code",
   "execution_count": 9,
   "id": "f4ce453a-8c56-468d-a082-90f70aad8686",
   "metadata": {},
   "outputs": [
    {
     "name": "stdout",
     "output_type": "stream",
     "text": [
      "name: Alice\n",
      "age: 30\n",
      "city: Wonderland\n"
     ]
    }
   ],
   "source": [
    "myfunction (name=\"Alice\", age=30, city=\"Wonderland\")"
   ]
  },
  {
   "cell_type": "code",
   "execution_count": null,
   "id": "ac9653b3-946a-42ae-ac18-4e858f98bb87",
   "metadata": {},
   "outputs": [],
   "source": []
  }
 ],
 "metadata": {
  "kernelspec": {
   "display_name": "Python 3 (ipykernel)",
   "language": "python",
   "name": "python3"
  },
  "language_info": {
   "codemirror_mode": {
    "name": "ipython",
    "version": 3
   },
   "file_extension": ".py",
   "mimetype": "text/x-python",
   "name": "python",
   "nbconvert_exporter": "python",
   "pygments_lexer": "ipython3",
   "version": "3.10.8"
  }
 },
 "nbformat": 4,
 "nbformat_minor": 5
}
