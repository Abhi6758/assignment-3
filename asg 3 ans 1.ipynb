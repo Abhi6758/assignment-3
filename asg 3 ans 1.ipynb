{
 "cells": [
  {
   "cell_type": "code",
   "execution_count": 6,
   "id": "f94a4242-6963-406b-92e7-936651b0f490",
   "metadata": {},
   "outputs": [],
   "source": [
    "#creating the function\n",
    "def myfunction(a):\n",
    "    print (\"A:\",a)"
   ]
  },
  {
   "cell_type": "code",
   "execution_count": 8,
   "id": "6f3f67a0-c162-4022-b1c5-1b0415f94cb7",
   "metadata": {},
   "outputs": [
    {
     "name": "stdout",
     "output_type": "stream",
     "text": [
      "A: 5\n"
     ]
    }
   ],
   "source": [
    "#calling the function\n",
    "myfunction(5)"
   ]
  },
  {
   "cell_type": "code",
   "execution_count": 28,
   "id": "fb8901b2-e3e5-4959-8ea5-47ff15061b4f",
   "metadata": {},
   "outputs": [
    {
     "name": "stdout",
     "output_type": "stream",
     "text": [
      "[1, 3, 5, 7, 9, 11, 13, 15, 17, 19, 21, 23, 25]\n"
     ]
    }
   ],
   "source": [
    "def get_odd_numbers():\n",
    "    odd_numbers = []\n",
    "    for num in range(1, 26):\n",
    "        if num % 2 != 0:\n",
    "            odd_numbers.append(num)\n",
    "    return odd_numbers\n",
    "\n",
    "# Call the function and print the result\n",
    "result = get_odd_numbers()\n",
    "print(result)\n"
   ]
  },
  {
   "cell_type": "code",
   "execution_count": 5,
   "id": "fd01caf9-0be6-4344-813e-e94a2b30ef55",
   "metadata": {},
   "outputs": [
    {
     "name": "stdout",
     "output_type": "stream",
     "text": [
      "[2, 4, 6, 8, 10, 12, 14, 16, 18, 20, 22, 24]\n"
     ]
    }
   ],
   "source": [
    "def even_numbers():\n",
    "    even_list = []\n",
    "    for num in range(1, 26):\n",
    "        if num % 2 == 0:\n",
    "            even_list.append(num)\n",
    "    return even_list\n",
    "\n",
    "# Call the function and print the result\n",
    "result = even_numbers()\n",
    "print(result)\n"
   ]
  }
 ],
 "metadata": {
  "kernelspec": {
   "display_name": "Python 3 (ipykernel)",
   "language": "python",
   "name": "python3"
  },
  "language_info": {
   "codemirror_mode": {
    "name": "ipython",
    "version": 3
   },
   "file_extension": ".py",
   "mimetype": "text/x-python",
   "name": "python",
   "nbconvert_exporter": "python",
   "pygments_lexer": "ipython3",
   "version": "3.10.8"
  }
 },
 "nbformat": 4,
 "nbformat_minor": 5
}
