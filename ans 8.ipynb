{
 "cells": [
  {
   "cell_type": "code",
   "execution_count": 2,
   "id": "73f36aa1-f4ef-42f5-b00f-a54147555224",
   "metadata": {},
   "outputs": [
    {
     "name": "stdin",
     "output_type": "stream",
     "text": [
      "Enter a number:  15\n"
     ]
    },
    {
     "ename": "UnboundLocalError",
     "evalue": "local variable 'number' referenced before assignment",
     "output_type": "error",
     "traceback": [
      "\u001b[0;31m---------------------------------------------------------------------------\u001b[0m",
      "\u001b[0;31mUnboundLocalError\u001b[0m                         Traceback (most recent call last)",
      "Cell \u001b[0;32mIn[2], line 15\u001b[0m\n\u001b[1;32m     12\u001b[0m \u001b[38;5;66;03m# Input a number from the user\u001b[39;00m\n\u001b[1;32m     13\u001b[0m num \u001b[38;5;241m=\u001b[39m \u001b[38;5;28mint\u001b[39m(\u001b[38;5;28minput\u001b[39m(\u001b[38;5;124m\"\u001b[39m\u001b[38;5;124mEnter a number: \u001b[39m\u001b[38;5;124m\"\u001b[39m))\n\u001b[0;32m---> 15\u001b[0m \u001b[38;5;28;01mif\u001b[39;00m \u001b[43mmyfunction\u001b[49m\u001b[43m(\u001b[49m\u001b[43mnum\u001b[49m\u001b[43m)\u001b[49m:\n\u001b[1;32m     16\u001b[0m     \u001b[38;5;28mprint\u001b[39m(\u001b[38;5;124mf\u001b[39m\u001b[38;5;124m\"\u001b[39m\u001b[38;5;132;01m{\u001b[39;00mnum\u001b[38;5;132;01m}\u001b[39;00m\u001b[38;5;124m is a palindrome.\u001b[39m\u001b[38;5;124m\"\u001b[39m)\n\u001b[1;32m     17\u001b[0m \u001b[38;5;28;01melse\u001b[39;00m:\n",
      "Cell \u001b[0;32mIn[2], line 5\u001b[0m, in \u001b[0;36mmyfunction\u001b[0;34m(l)\u001b[0m\n\u001b[1;32m      2\u001b[0m original_number \u001b[38;5;241m=\u001b[39m l\n\u001b[1;32m      3\u001b[0m reversed_number \u001b[38;5;241m=\u001b[39m \u001b[38;5;241m0\u001b[39m\n\u001b[0;32m----> 5\u001b[0m \u001b[38;5;28;01mwhile\u001b[39;00m \u001b[43mnumber\u001b[49m \u001b[38;5;241m>\u001b[39m \u001b[38;5;241m0\u001b[39m:\n\u001b[1;32m      6\u001b[0m     digit \u001b[38;5;241m=\u001b[39m number \u001b[38;5;241m%\u001b[39m \u001b[38;5;241m10\u001b[39m\n\u001b[1;32m      7\u001b[0m     reversed_number \u001b[38;5;241m=\u001b[39m reversed_number \u001b[38;5;241m*\u001b[39m \u001b[38;5;241m10\u001b[39m \u001b[38;5;241m+\u001b[39m digit\n",
      "\u001b[0;31mUnboundLocalError\u001b[0m: local variable 'number' referenced before assignment"
     ]
    }
   ],
   "source": [
    "def myfunction(l):\n",
    "    original_number = l\n",
    "    reversed_number = 0\n",
    "    \n",
    "    while number > 0:\n",
    "        digit = number % 10\n",
    "        reversed_number = reversed_number * 10 + digit\n",
    "        number //= 10\n",
    "    \n",
    "    return original_number == reversed_number\n",
    "\n",
    "# Input a number from the user\n",
    "num = int(input(\"Enter a number: \"))\n",
    "\n",
    "if myfunction(num):\n",
    "    print(f\"{num} is a palindrome.\")\n",
    "else:\n",
    "    print(f\"{num} is not a palindrome.\")\n"
   ]
  },
  {
   "cell_type": "code",
   "execution_count": null,
   "id": "a0a3ef89-f771-4c6d-a489-9347cdbd4007",
   "metadata": {},
   "outputs": [],
   "source": [
    "def is_palindrome(number):\n",
    "    original_number = number\n",
    "    reversed_number = 0\n",
    "    \n",
    "    while number > 0:\n",
    "        digit = number % 10\n",
    "        reversed_number = reversed_number * 10 + digit\n",
    "        number //= 10\n",
    "    \n",
    "    return original_number == reversed_number\n",
    "\n",
    "# Input a number from the user\n",
    "num = int(input(\"Enter a number: \"))\n",
    "\n",
    "if is_palindrome(num):\n",
    "    print(f\"{num} is a palindrome.\")\n",
    "else:\n",
    "    print(f\"{num} is not a palindrome.\")\n"
   ]
  }
 ],
 "metadata": {
  "kernelspec": {
   "display_name": "Python 3 (ipykernel)",
   "language": "python",
   "name": "python3"
  },
  "language_info": {
   "codemirror_mode": {
    "name": "ipython",
    "version": 3
   },
   "file_extension": ".py",
   "mimetype": "text/x-python",
   "name": "python",
   "nbconvert_exporter": "python",
   "pygments_lexer": "ipython3",
   "version": "3.10.8"
  }
 },
 "nbformat": 4,
 "nbformat_minor": 5
}
