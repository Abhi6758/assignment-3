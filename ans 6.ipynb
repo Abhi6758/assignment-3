{
 "cells": [
  {
   "cell_type": "code",
   "execution_count": null,
   "id": "2ad2b73d-504a-42a1-9534-185c1ab9883f",
   "metadata": {},
   "outputs": [],
   "source": [
    "def fib(n):\n",
    "    fib1 = [0, 1]\n",
    "    while len(fib1) < n:\n",
    "        next_fib = fib1[-1] + fib1[-2]\n",
    "        fib_.append(next_fib)\n",
    "    return fib_sequence\n",
    "\n",
    "# Print the first 10 Fibonacci numbers\n",
    "first_10_fib = fibonacci(10)\n",
    "for num in first_10_fib:\n",
    "    print(num)\n"
   ]
  }
 ],
 "metadata": {
  "kernelspec": {
   "display_name": "Python 3 (ipykernel)",
   "language": "python",
   "name": "python3"
  },
  "language_info": {
   "codemirror_mode": {
    "name": "ipython",
    "version": 3
   },
   "file_extension": ".py",
   "mimetype": "text/x-python",
   "name": "python",
   "nbconvert_exporter": "python",
   "pygments_lexer": "ipython3",
   "version": "3.10.8"
  }
 },
 "nbformat": 4,
 "nbformat_minor": 5
}
